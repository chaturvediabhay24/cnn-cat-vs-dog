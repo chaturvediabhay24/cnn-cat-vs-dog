{
  "nbformat": 4,
  "nbformat_minor": 0,
  "metadata": {
    "colab": {
      "name": "Shallow_cat_vs_dog.ipynb",
      "version": "0.3.2",
      "provenance": [],
      "collapsed_sections": []
    },
    "kernelspec": {
      "name": "python3",
      "display_name": "Python 3"
    },
    "accelerator": "GPU"
  },
  "cells": [
    {
      "cell_type": "code",
      "metadata": {
        "id": "8nhBJaKEcrqn",
        "colab_type": "code",
        "outputId": "3c095fe8-670a-41cc-9037-143e26456da4",
        "colab": {
          "base_uri": "https://localhost:8080/",
          "height": 35
        }
      },
      "source": [
        "from google.colab import drive\n",
        "drive.mount('/content/gdrive')"
      ],
      "execution_count": 0,
      "outputs": [
        {
          "output_type": "stream",
          "text": [
            "Drive already mounted at /content/gdrive; to attempt to forcibly remount, call drive.mount(\"/content/gdrive\", force_remount=True).\n"
          ],
          "name": "stdout"
        }
      ]
    },
    {
      "cell_type": "code",
      "metadata": {
        "id": "vRtDRZuwctNq",
        "colab_type": "code",
        "colab": {}
      },
      "source": [
        "from keras.models import Sequential\n",
        "from keras.layers import Convolution2D\n",
        "from keras.layers import MaxPooling2D\n",
        "from keras.layers import Flatten\n",
        "from keras.layers import Dense\n"
      ],
      "execution_count": 0,
      "outputs": []
    },
    {
      "cell_type": "code",
      "metadata": {
        "id": "oBJ2HzVdc7IC",
        "colab_type": "code",
        "outputId": "6c79b1d2-7457-4cc7-8a42-a6878fe1b2f2",
        "colab": {
          "base_uri": "https://localhost:8080/",
          "height": 184
        }
      },
      "source": [
        "classifier = Sequential()\n",
        "\n",
        "classifier.add(Convolution2D(32, 3, 3, input_shape = (64, 64, 3), activation = 'relu'))\n",
        "\n",
        "classifier.add(MaxPooling2D(pool_size = (2, 2)))\n",
        "\n",
        "classifier.add(Convolution2D(32, 3, 3, activation = 'relu'))\n",
        "classifier.add(MaxPooling2D(pool_size = (2, 2)))\n",
        "\n",
        "classifier.add(Flatten())\n",
        "\n",
        "classifier.add(Dense(output_dim = 128, activation = 'relu'))\n",
        "classifier.add(Dense(output_dim = 1, activation = 'sigmoid'))\n",
        "\n",
        "classifier.compile(optimizer = 'adam', loss = 'binary_crossentropy', metrics = ['accuracy'])\n"
      ],
      "execution_count": 0,
      "outputs": [
        {
          "output_type": "stream",
          "text": [
            "/usr/local/lib/python3.6/dist-packages/ipykernel_launcher.py:3: UserWarning: Update your `Conv2D` call to the Keras 2 API: `Conv2D(32, (3, 3), input_shape=(64, 64, 3..., activation=\"relu\")`\n",
            "  This is separate from the ipykernel package so we can avoid doing imports until\n",
            "/usr/local/lib/python3.6/dist-packages/ipykernel_launcher.py:7: UserWarning: Update your `Conv2D` call to the Keras 2 API: `Conv2D(32, (3, 3), activation=\"relu\")`\n",
            "  import sys\n",
            "/usr/local/lib/python3.6/dist-packages/ipykernel_launcher.py:12: UserWarning: Update your `Dense` call to the Keras 2 API: `Dense(activation=\"relu\", units=128)`\n",
            "  if sys.path[0] == '':\n",
            "/usr/local/lib/python3.6/dist-packages/ipykernel_launcher.py:13: UserWarning: Update your `Dense` call to the Keras 2 API: `Dense(activation=\"sigmoid\", units=1)`\n",
            "  del sys.path[0]\n"
          ],
          "name": "stderr"
        }
      ]
    },
    {
      "cell_type": "code",
      "metadata": {
        "id": "3CCdDrDpdD1d",
        "colab_type": "code",
        "outputId": "b0e9ff5e-26e5-4e6c-9c18-d69d2cb83a22",
        "colab": {
          "base_uri": "https://localhost:8080/",
          "height": 1047
        }
      },
      "source": [
        "\n",
        "from keras.preprocessing.image import ImageDataGenerator\n",
        "\n",
        "train_datagen = ImageDataGenerator(rescale = 1./255,\n",
        "                                   shear_range = 0.2,\n",
        "                                   zoom_range = 0.2,\n",
        "                                   horizontal_flip = True)\n",
        "\n",
        "test_datagen = ImageDataGenerator(rescale = 1./255)\n",
        "\n",
        "training_set = train_datagen.flow_from_directory('training_set',\n",
        "                                                 target_size = (64, 64),\n",
        "                                                 batch_size = 32,\n",
        "                                                 class_mode = 'binary')\n",
        "\n",
        "test_set = test_datagen.flow_from_directory('test_set',\n",
        "                                            target_size = (64, 64),\n",
        "                                            batch_size = 32,\n",
        "                                            class_mode = 'binary')\n",
        "\n",
        "classifier.fit_generator(training_set,\n",
        "                         samples_per_epoch = 8000,\n",
        "                         nb_epoch = 25,\n",
        "                         validation_data = test_set,\n",
        "                         nb_val_samples = 2000)"
      ],
      "execution_count": 0,
      "outputs": [
        {
          "output_type": "stream",
          "text": [
            "Found 8009 images belonging to 2 classes.\n",
            "Found 2000 images belonging to 2 classes.\n"
          ],
          "name": "stdout"
        },
        {
          "output_type": "stream",
          "text": [
            "/usr/local/lib/python3.6/dist-packages/ipykernel_launcher.py:25: UserWarning: The semantics of the Keras 2 argument `steps_per_epoch` is not the same as the Keras 1 argument `samples_per_epoch`. `steps_per_epoch` is the number of batches to draw from the generator at each epoch. Basically steps_per_epoch = samples_per_epoch/batch_size. Similarly `nb_val_samples`->`validation_steps` and `val_samples`->`steps` arguments have changed. Update your method calls accordingly.\n",
            "/usr/local/lib/python3.6/dist-packages/ipykernel_launcher.py:25: UserWarning: Update your `fit_generator` call to the Keras 2 API: `fit_generator(<keras_pre..., validation_data=<keras_pre..., steps_per_epoch=250, epochs=25, validation_steps=2000)`\n"
          ],
          "name": "stderr"
        },
        {
          "output_type": "stream",
          "text": [
            "Epoch 1/25\n",
            "250/250 [==============================] - 2054s 8s/step - loss: 0.6731 - acc: 0.5839 - val_loss: 0.6286 - val_acc: 0.6695\n",
            "Epoch 2/25\n",
            "250/250 [==============================] - 246s 986ms/step - loss: 0.6051 - acc: 0.6700 - val_loss: 0.5563 - val_acc: 0.7101\n",
            "Epoch 3/25\n",
            "250/250 [==============================] - 246s 983ms/step - loss: 0.5659 - acc: 0.7031 - val_loss: 0.5361 - val_acc: 0.7262\n",
            "Epoch 4/25\n",
            "250/250 [==============================] - 249s 996ms/step - loss: 0.5356 - acc: 0.7337 - val_loss: 0.5450 - val_acc: 0.7310\n",
            "Epoch 5/25\n",
            "250/250 [==============================] - 250s 998ms/step - loss: 0.5046 - acc: 0.7523 - val_loss: 0.5241 - val_acc: 0.7457\n",
            "Epoch 6/25\n",
            "250/250 [==============================] - 249s 998ms/step - loss: 0.4923 - acc: 0.7595 - val_loss: 0.4900 - val_acc: 0.7588\n",
            "Epoch 7/25\n",
            "250/250 [==============================] - 249s 994ms/step - loss: 0.4729 - acc: 0.7763 - val_loss: 0.4913 - val_acc: 0.7676\n",
            "Epoch 8/25\n",
            "250/250 [==============================] - 247s 989ms/step - loss: 0.4524 - acc: 0.7888 - val_loss: 0.4759 - val_acc: 0.7784\n",
            "Epoch 9/25\n",
            "250/250 [==============================] - 245s 981ms/step - loss: 0.4400 - acc: 0.7928 - val_loss: 0.5190 - val_acc: 0.7500\n",
            "Epoch 10/25\n",
            "250/250 [==============================] - 244s 977ms/step - loss: 0.4264 - acc: 0.7995 - val_loss: 0.4483 - val_acc: 0.8030\n",
            "Epoch 11/25\n",
            "250/250 [==============================] - 247s 988ms/step - loss: 0.4133 - acc: 0.8124 - val_loss: 0.4641 - val_acc: 0.7878\n",
            "Epoch 12/25\n",
            "250/250 [==============================] - 246s 984ms/step - loss: 0.4050 - acc: 0.8141 - val_loss: 0.4548 - val_acc: 0.7947\n",
            "Epoch 13/25\n",
            "250/250 [==============================] - 247s 988ms/step - loss: 0.3925 - acc: 0.8206 - val_loss: 0.4734 - val_acc: 0.7860\n",
            "Epoch 14/25\n",
            "250/250 [==============================] - 250s 998ms/step - loss: 0.3738 - acc: 0.8283 - val_loss: 0.4503 - val_acc: 0.8017\n",
            "Epoch 15/25\n",
            "250/250 [==============================] - 251s 1s/step - loss: 0.3617 - acc: 0.8370 - val_loss: 0.4738 - val_acc: 0.7887\n",
            "Epoch 16/25\n",
            "250/250 [==============================] - 249s 997ms/step - loss: 0.3445 - acc: 0.8430 - val_loss: 0.4941 - val_acc: 0.7924\n",
            "Epoch 17/25\n",
            "250/250 [==============================] - 247s 990ms/step - loss: 0.3348 - acc: 0.8548 - val_loss: 0.4652 - val_acc: 0.7911\n",
            "Epoch 18/25\n",
            "250/250 [==============================] - 248s 993ms/step - loss: 0.3228 - acc: 0.8537 - val_loss: 0.4722 - val_acc: 0.7925\n",
            "Epoch 19/25\n",
            "250/250 [==============================] - 249s 994ms/step - loss: 0.3122 - acc: 0.8637 - val_loss: 0.4841 - val_acc: 0.8071\n",
            "Epoch 20/25\n",
            "250/250 [==============================] - 247s 990ms/step - loss: 0.3082 - acc: 0.8658 - val_loss: 0.5305 - val_acc: 0.7884\n",
            "Epoch 21/25\n",
            "250/250 [==============================] - 249s 996ms/step - loss: 0.2863 - acc: 0.8822 - val_loss: 0.4818 - val_acc: 0.8101\n",
            "Epoch 22/25\n",
            "250/250 [==============================] - 249s 995ms/step - loss: 0.2810 - acc: 0.8804 - val_loss: 0.4804 - val_acc: 0.8022\n",
            "Epoch 23/25\n",
            "250/250 [==============================] - 249s 996ms/step - loss: 0.2603 - acc: 0.8889 - val_loss: 0.5984 - val_acc: 0.7865\n",
            "Epoch 24/25\n",
            "250/250 [==============================] - 247s 989ms/step - loss: 0.2656 - acc: 0.8903 - val_loss: 0.4941 - val_acc: 0.8061\n",
            "Epoch 25/25\n",
            "250/250 [==============================] - 244s 974ms/step - loss: 0.2413 - acc: 0.8954 - val_loss: 0.5066 - val_acc: 0.8121\n"
          ],
          "name": "stdout"
        },
        {
          "output_type": "execute_result",
          "data": {
            "text/plain": [
              "<keras.callbacks.History at 0x7fe31c9990b8>"
            ]
          },
          "metadata": {
            "tags": []
          },
          "execution_count": 18
        }
      ]
    }
  ]
}